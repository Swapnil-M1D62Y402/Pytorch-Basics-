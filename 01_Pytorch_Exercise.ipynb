{
  "nbformat": 4,
  "nbformat_minor": 0,
  "metadata": {
    "colab": {
      "provenance": [],
      "gpuType": "T4",
      "authorship_tag": "ABX9TyOYvGLbSyFqAyVH6vSfD7fw",
      "include_colab_link": true
    },
    "kernelspec": {
      "name": "python3",
      "display_name": "Python 3"
    },
    "language_info": {
      "name": "python"
    },
    "accelerator": "GPU"
  },
  "cells": [
    {
      "cell_type": "markdown",
      "metadata": {
        "id": "view-in-github",
        "colab_type": "text"
      },
      "source": [
        "<a href=\"https://colab.research.google.com/github/Swapnil-M1D62Y402/Pytorch-Basics-/blob/main/01_Pytorch_Exercise.ipynb\" target=\"_parent\"><img src=\"https://colab.research.google.com/assets/colab-badge.svg\" alt=\"Open In Colab\"/></a>"
      ]
    },
    {
      "cell_type": "code",
      "execution_count": 13,
      "metadata": {
        "id": "tMv_W3OnI12Q"
      },
      "outputs": [],
      "source": [
        "#import the libs\n",
        "import torch\n",
        "from torch import nn\n",
        "import matplotlib.pyplot as plt\n",
        "import numpy as np\n"
      ]
    },
    {
      "cell_type": "code",
      "source": [
        "device = \"cuda\" if torch.cuda.is_available() else \"cpu\""
      ],
      "metadata": {
        "id": "ttSIO4EqMaCc"
      },
      "execution_count": 14,
      "outputs": []
    },
    {
      "cell_type": "code",
      "source": [
        "bias = 0.9\n",
        "weight = 0.3\n",
        "\n",
        "X = torch.arange(start=0, end=1, step=0.01).unsqueeze(dim=1)  #unsqueeze(dim=1) adds another dimension\n",
        "y = X*weight + bias\n"
      ],
      "metadata": {
        "id": "-P7dAdjBMSKg"
      },
      "execution_count": 15,
      "outputs": []
    },
    {
      "cell_type": "code",
      "source": [
        "split_ratio = int (0.8*len(X))\n",
        "\n",
        "X_train, y_train = X[:split_ratio], y[:split_ratio]\n",
        "X_test  , y_test = X[split_ratio:], y[split_ratio:]"
      ],
      "metadata": {
        "id": "Pwqib_Jz_Olt"
      },
      "execution_count": 16,
      "outputs": []
    },
    {
      "cell_type": "code",
      "source": [
        "def plot_predictions(X_train = X_train,\n",
        "                     y_train = y_train,\n",
        "                     X_test = X_test,\n",
        "                     y_test = y_test,\n",
        "                     prediction = None):\n",
        "  plt.scatter(X_train, y_train, s=0.25, c=\"y\", label=\"Training Data\")\n",
        "  plt.scatter(X_test, y_test, s=0.25, c=\"r\", label = \"Test Data\")\n",
        "\n",
        "  if prediction is not None:\n",
        "    plt.scatter(X_test, prediction, c=\"b\", s=0.125 ,label=\"Prediction\")\n",
        "\n",
        "    #Legend\n",
        "  plt.legend(prop={\"size\": 10});"
      ],
      "metadata": {
        "id": "BZXj9cI1_3JP"
      },
      "execution_count": 17,
      "outputs": []
    },
    {
      "cell_type": "code",
      "source": [
        "plot_predictions(X_train, y_train, X_test, y_test)"
      ],
      "metadata": {
        "colab": {
          "base_uri": "https://localhost:8080/",
          "height": 430
        },
        "id": "uw5KgirYCzSw",
        "outputId": "e05e3977-19f8-444d-d4ba-001861015f6f"
      },
      "execution_count": 18,
      "outputs": [
        {
          "output_type": "display_data",
          "data": {
            "text/plain": [
              "<Figure size 640x480 with 1 Axes>"
            ],
            "image/png": "[encoded data removed]"
          },
          "metadata": {}
        }
      ]
    },
    {
      "cell_type": "code",
      "source": [
        "#Create the Regression class\n",
        "class LinearRegressionModel(nn.Module):\n",
        "  def __init__(self):\n",
        "    super().__init__()\n",
        "\n",
        "    self.bias = nn.Parameter(torch.randn(1,\n",
        "                                         requires_grad=True,\n",
        "                                         dtype=torch.float))\n",
        "\n",
        "    self.weight = nn.Parameter(torch.randn(1,\n",
        "                                         requires_grad=True,\n",
        "                                         dtype=torch.float))\n",
        "\n",
        "  def forward(self, x: torch.Tensor) ->torch.Tensor:\n",
        "      return self.weight * x + self.bias\n",
        "\n",
        "torch.manual_seed(1)\n",
        "model_1 = LinearRegressionModel()\n",
        "\n",
        "#set model to target device\n",
        "model_1.to(device)\n",
        "next(model_1.parameters()).device #check the device on which model is running"
      ],
      "metadata": {
        "colab": {
          "base_uri": "https://localhost:8080/"
        },
        "id": "e_BXzi7YDR0f",
        "outputId": "601d64a8-b591-4f8d-9f5a-a4e50848a477"
      },
      "execution_count": 19,
      "outputs": [
        {
          "output_type": "execute_result",
          "data": {
            "text/plain": [
              "device(type='cpu')"
            ]
          },
          "metadata": {},
          "execution_count": 19
        }
      ]
    },
    {
      "cell_type": "code",
      "source": [
        "#create the loss function and the optimizer\n",
        "loss_fn = nn.L1Loss()\n",
        "\n",
        "optimizer = torch.optim.SGD(params = model_1.parameters(),\n",
        "                            lr=0.01)"
      ],
      "metadata": {
        "id": "N8VFU8EnnelQ"
      },
      "execution_count": 20,
      "outputs": []
    },
    {
      "cell_type": "code",
      "source": [
        "epochs = 300\n",
        "\n",
        "epoch_count = []\n",
        "loss_value = []\n",
        "test_loss_value = []\n",
        "\n",
        "X_train = X_train.to(device)\n",
        "X_test = X_test.to(device)\n",
        "y_train = y_train.to(device)\n",
        "y_test = y_test.to(device)\n",
        "\n",
        "for epoch in range(epochs):\n",
        "  #training\n",
        "  model_1.train()\n",
        "\n",
        "  #forward-prop\n",
        "  y_preds = model_1(X_train)\n",
        "  #loss calulate\n",
        "  loss = loss_fn(y_preds, y_train)\n",
        "  #zero grad of optimizer\n",
        "  optimizer.zero_grad()\n",
        "  #backprop\n",
        "  loss.backward()\n",
        "  #step up by optimizer\n",
        "  optimizer.step()\n",
        "\n",
        "  if epoch%20 == 0:\n",
        "\n",
        "  #Testing\n",
        "    model_1.eval()\n",
        "\n",
        "    with torch.inference_mode():\n",
        "      test_pred = model_1(X_test)\n",
        "\n",
        "      #calculate test loss\n",
        "      test_loss = loss_fn(test_pred, y_test)\n",
        "\n",
        "      #print out the data\n",
        "      print(f\"Epoch : {epoch}, Train loss : {loss}, Test loss : {test_loss}\")\n",
        "      print(model_1.state_dict())\n",
        "\n",
        "  if epoch%5 == 0:\n",
        "    epoch_count.append(epoch)\n",
        "    loss_value.append(loss)\n",
        "    test_loss_value.append(test_loss)\n",
        "\n"
      ],
      "metadata": {
        "colab": {
          "base_uri": "https://localhost:8080/"
        },
        "id": "qNYzYMFkvOVN",
        "outputId": "469c70e9-deb7-4a69-f9a6-09ea67829786"
      },
      "execution_count": 21,
      "outputs": [
        {
          "output_type": "stream",
          "name": "stdout",
          "text": [
            "Epoch : 0, Train loss : 0.2517127990722656, Test loss : 0.2547155022621155\n",
            "OrderedDict([('bias', tensor([0.6714])), ('weight', tensor([0.2709]))])\n",
            "Epoch : 20, Train loss : 0.020507989451289177, Test loss : 0.015989292412996292\n",
            "OrderedDict([('bias', tensor([0.8714])), ('weight', tensor([0.3499]))])\n",
            "Epoch : 40, Train loss : 0.004117191769182682, Test loss : 0.00892947893589735\n",
            "OrderedDict([('bias', tensor([0.8921])), ('weight', tensor([0.3188]))])\n",
            "Epoch : 60, Train loss : 0.008624271489679813, Test loss : 0.0007689475896768272\n",
            "OrderedDict([('bias', tensor([0.8954])), ('weight', tensor([0.3043]))])\n",
            "Epoch : 80, Train loss : 0.008624271489679813, Test loss : 0.0007689475896768272\n",
            "OrderedDict([('bias', tensor([0.8954])), ('weight', tensor([0.3043]))])\n",
            "Epoch : 100, Train loss : 0.008624271489679813, Test loss : 0.0007689475896768272\n",
            "OrderedDict([('bias', tensor([0.8954])), ('weight', tensor([0.3043]))])\n",
            "Epoch : 120, Train loss : 0.008624271489679813, Test loss : 0.0007689475896768272\n",
            "OrderedDict([('bias', tensor([0.8954])), ('weight', tensor([0.3043]))])\n",
            "Epoch : 140, Train loss : 0.008624271489679813, Test loss : 0.0007689475896768272\n",
            "OrderedDict([('bias', tensor([0.8954])), ('weight', tensor([0.3043]))])\n",
            "Epoch : 160, Train loss : 0.008624271489679813, Test loss : 0.0007689475896768272\n",
            "OrderedDict([('bias', tensor([0.8954])), ('weight', tensor([0.3043]))])\n",
            "Epoch : 180, Train loss : 0.008624271489679813, Test loss : 0.0007689475896768272\n",
            "OrderedDict([('bias', tensor([0.8954])), ('weight', tensor([0.3043]))])\n",
            "Epoch : 200, Train loss : 0.008624271489679813, Test loss : 0.0007689475896768272\n",
            "OrderedDict([('bias', tensor([0.8954])), ('weight', tensor([0.3043]))])\n",
            "Epoch : 220, Train loss : 0.008624271489679813, Test loss : 0.0007689475896768272\n",
            "OrderedDict([('bias', tensor([0.8954])), ('weight', tensor([0.3043]))])\n",
            "Epoch : 240, Train loss : 0.008624271489679813, Test loss : 0.0007689475896768272\n",
            "OrderedDict([('bias', tensor([0.8954])), ('weight', tensor([0.3043]))])\n",
            "Epoch : 260, Train loss : 0.008624271489679813, Test loss : 0.0007689475896768272\n",
            "OrderedDict([('bias', tensor([0.8954])), ('weight', tensor([0.3043]))])\n",
            "Epoch : 280, Train loss : 0.008624271489679813, Test loss : 0.0007689475896768272\n",
            "OrderedDict([('bias', tensor([0.8954])), ('weight', tensor([0.3043]))])\n"
          ]
        }
      ]
    },
    {
      "cell_type": "code",
      "source": [
        "plt.plot(epoch_count, np.array(torch.tensor(test_loss_value).numpy()), label=\"Test Loss\", c=\"g\")\n",
        "plt.plot(epoch_count, np.array(torch.tensor(loss_value).numpy()), label=\"Training Loss\", c=\"r\")\n",
        "plt.title(\"Loss Curve\")\n",
        "plt.ylabel(\"Loss\")\n",
        "plt.xlabel(\"Epochs\")\n",
        "plt.legend(prop={\"size\":10})"
      ],
      "metadata": {
        "colab": {
          "base_uri": "https://localhost:8080/",
          "height": 489
        },
        "id": "yV7Uf3vXz04S",
        "outputId": "4c2f24f3-9b40-4dfc-cd05-16a852d24552"
      },
      "execution_count": 22,
      "outputs": [
        {
          "output_type": "execute_result",
          "data": {
            "text/plain": [
              "<matplotlib.legend.Legend at 0x790afccd0d00>"
            ]
          },
          "metadata": {},
          "execution_count": 22
        },
        {
          "output_type": "display_data",
          "data": {
            "text/plain": [
              "<Figure size 640x480 with 1 Axes>"
            ],
            "image/png": "[encoded data removed]"
          },
          "metadata": {}
        }
      ]
    },
    {
      "cell_type": "code",
      "source": [
        "torch.manual_seed(1)\n",
        "with torch.inference_mode():\n",
        "  y_preds_new = model_1(X_test).cpu()\n",
        "plot_predictions(prediction=y_preds_new)"
      ],
      "metadata": {
        "colab": {
          "base_uri": "https://localhost:8080/",
          "height": 430
        },
        "id": "ENGLw9d61cgW",
        "outputId": "cfecbf5f-7492-482a-a0d1-8e4227007b5e"
      },
      "execution_count": 23,
      "outputs": [
        {
          "output_type": "display_data",
          "data": {
            "text/plain": [
              "<Figure size 640x480 with 1 Axes>"
            ],
            "image/png": "[encoded data removed]"
          },
          "metadata": {}
        }
      ]
    },
    {
      "cell_type": "markdown",
      "source": [
        "predictions coverges for lr=0.012485"
      ],
      "metadata": {
        "id": "FOiCJqf73y01"
      }
    },
    {
      "cell_type": "code",
      "source": [
        "from pathlib import Path\n",
        "\n",
        "MODEL_PATH = Path(\"models\")\n",
        "MODEL_PATH.mkdir(parents=True, exist_ok=True)\n",
        "\n",
        "MODEL_NAME = \"01_Pytorch_Exercise.pth\"\n",
        "MODEL_SAVE_PATH = MODEL_PATH / MODEL_NAME\n",
        "\n",
        "print(f\"Model Save path : {MODEL_SAVE_PATH}\")\n",
        "torch.save(obj=model_1.state_dict(),\n",
        "           f=MODEL_SAVE_PATH)"
      ],
      "metadata": {
        "colab": {
          "base_uri": "https://localhost:8080/"
        },
        "id": "U85I4k1j31VP",
        "outputId": "2ff54de8-36e8-498d-dcfd-4f3fd2b4b37c"
      },
      "execution_count": 25,
      "outputs": [
        {
          "output_type": "stream",
          "name": "stdout",
          "text": [
            "Model Save path : models/01_Pytorch_Exercise.pth\n"
          ]
        }
      ]
    },
    {
      "cell_type": "code",
      "source": [
        "loaded_model_1 = LinearRegressionModel()\n",
        "\n",
        "loaded_model_1.load_state_dict(torch.load(MODEL_SAVE_PATH))\n",
        "\n",
        "loaded_model_1.to(device)"
      ],
      "metadata": {
        "colab": {
          "base_uri": "https://localhost:8080/"
        },
        "id": "zcB3Wz84SbfP",
        "outputId": "e8e46a4a-c475-4d7d-d0a8-c46d427f8e8d"
      },
      "execution_count": 26,
      "outputs": [
        {
          "output_type": "execute_result",
          "data": {
            "text/plain": [
              "LinearRegressionModel()"
            ]
          },
          "metadata": {},
          "execution_count": 26
        }
      ]
    },
    {
      "cell_type": "code",
      "source": [
        "loaded_model_1.eval()\n",
        "\n",
        "with torch.inference_mode():\n",
        "  loaded_y_preds = loaded_model_1(X_test)\n",
        "\n",
        "plt.scatter(X_test, loaded_y_preds, s=0.5, c=\"b\", label=\"Loaded Data\")"
      ],
      "metadata": {
        "colab": {
          "base_uri": "https://localhost:8080/",
          "height": 447
        },
        "id": "yFLTD4CATB76",
        "outputId": "36277a25-226d-429f-ce4e-bf05f785a5d3"
      },
      "execution_count": 28,
      "outputs": [
        {
          "output_type": "execute_result",
          "data": {
            "text/plain": [
              "<matplotlib.collections.PathCollection at 0x790afbfe9150>"
            ]
          },
          "metadata": {},
          "execution_count": 28
        },
        {
          "output_type": "display_data",
          "data": {
            "text/plain": [
              "<Figure size 640x480 with 1 Axes>"
            ],
            "image/png": "[encoded data removed]"
          },
          "metadata": {}
        }
      ]
    }
  ]
}